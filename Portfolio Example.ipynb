{
 "cells": [
  {
   "cell_type": "code",
   "execution_count": null,
   "metadata": {},
   "outputs": [],
   "source": [
    "%load_ext cythonmagic\n",
    "%matplotlib inline \n",
    "import numpy as np #mathematical computation\n",
    "import pandas as pd #dataframe and data structure\n",
    "import matplotlib.pyplot as plt #plot and graph\n",
    "from matplotlib import style #customized plot design\n",
    "import matplotlib.ticker as mticks #customize tick and ticklables\n",
    "import matplotlib.dates as mdates #format dates\n",
    "\n",
    "import pyximport; pyximport.install()\n",
    "import aop #cython code pxy file\n",
    "\n",
    "from Stock import Stock #Stock class\n",
    "#from Portfolio import Portfolio#Portfolio class"
   ]
  },
  {
   "cell_type": "code",
   "execution_count": null,
   "metadata": {},
   "outputs": [],
   "source": [
    "#import data from excel sheet\n",
    "transaction = pd.read_excel('stock_trading.xlsx', sheetname = 'Transactions')\n",
    "d = pd.read_excel('stock_trading.xlsx', sheetname = 'Prices')\n",
    "df = pd.DataFrame(d)\n",
    "df.set_index(\"Date\",inplace=True)"
   ]
  },
  {
   "cell_type": "code",
   "execution_count": null,
   "metadata": {},
   "outputs": [],
   "source": [
    "#create Portfolio object\n",
    "port = Portfolio(transaction,df) "
   ]
  },
  {
   "cell_type": "code",
   "execution_count": null,
   "metadata": {},
   "outputs": [],
   "source": [
    "#plot pnl for portfolio\n",
    "port.plot_pnl()"
   ]
  },
  {
   "cell_type": "code",
   "execution_count": null,
   "metadata": {},
   "outputs": [],
   "source": [
    "#plot market value of portfolio\n",
    "port.plot_mkt_val()"
   ]
  },
  {
   "cell_type": "code",
   "execution_count": null,
   "metadata": {},
   "outputs": [],
   "source": [
    "#portfolio gain/loss\n",
    "d = port.get_pnl()\n",
    "p =str(round(d,-6))[:3]\n",
    "if d > 0:\n",
    "    print(\"The portfolio made $%sM.\"%p)\n",
    "else:\n",
    "    print(\"The portfolio lost $%sM.\"%p)"
   ]
  },
  {
   "cell_type": "code",
   "execution_count": null,
   "metadata": {},
   "outputs": [],
   "source": [
    "#list of stocks that are in Portfolio\n",
    "d = port.get_stock()\n",
    "print(\"Portfolio contains the following stocks: \")\n",
    "for t in d: print(t)"
   ]
  },
  {
   "cell_type": "code",
   "execution_count": null,
   "metadata": {},
   "outputs": [],
   "source": [
    "#plot pnl and position for AAPL\n",
    "dic = port.get_dict()\n",
    "aapl = dic.get(\"AAPL\")\n",
    "aapl.plot_stock()"
   ]
  },
  {
   "cell_type": "code",
   "execution_count": null,
   "metadata": {},
   "outputs": [],
   "source": [
    "#plot pnl and position for AMZN\n",
    "dic = port.get_dict()\n",
    "amzn = dic.get(\"AMZN\")\n",
    "amzn.plot_stock()"
   ]
  },
  {
   "cell_type": "code",
   "execution_count": null,
   "metadata": {},
   "outputs": [],
   "source": [
    "#plot pnl and position for GOOGL\n",
    "dic = port.get_dict()\n",
    "googl = dic.get(\"GOOGL\")\n",
    "googl.plot_stock()"
   ]
  },
  {
   "cell_type": "code",
   "execution_count": null,
   "metadata": {},
   "outputs": [],
   "source": [
    "#plot pnl and position for MSFT\n",
    "dic = port.get_dict()\n",
    "msft = dic.get(\"MSFT\")\n",
    "msft.plot_stock()"
   ]
  },
  {
   "cell_type": "code",
   "execution_count": null,
   "metadata": {},
   "outputs": [],
   "source": [
    "#plot pnl and position for NVDA\n",
    "dic = port.get_dict()\n",
    "nvda = dic.get(\"NVDA\")\n",
    "nvda.plot_stock()"
   ]
  },
  {
   "cell_type": "code",
   "execution_count": null,
   "metadata": {},
   "outputs": [],
   "source": [
    "#stock with max profit\n",
    "p = port.get_maxp()\n",
    "d =str(round(p[1],-6))[:2]\n",
    "print(\"%s had the biggest profit with $%sM in gains.\" % (p[0],d))"
   ]
  },
  {
   "cell_type": "code",
   "execution_count": null,
   "metadata": {},
   "outputs": [],
   "source": [
    "#stock with min profit\n",
    "p = port.get_minp()\n",
    "d =str(round(p[1],-6))[:2]\n",
    "print(\"%s had the biggest loss with $%sM in losses.\" % (p[0],d))"
   ]
  },
  {
   "cell_type": "code",
   "execution_count": null,
   "metadata": {},
   "outputs": [],
   "source": [
    "#average transaction\n",
    "ave = port.get_ave_tranCost()\n",
    "a = '${:,.2f}'.format(round(ave,0))\n",
    "print(\"The average transaction cost was %s.\" % a)"
   ]
  },
  {
   "cell_type": "code",
   "execution_count": null,
   "metadata": {},
   "outputs": [],
   "source": []
  }
 ],
 "metadata": {
  "kernelspec": {
   "display_name": "Python 3",
   "language": "python",
   "name": "python3"
  },
  "language_info": {
   "codemirror_mode": {
    "name": "ipython",
    "version": 3
   },
   "file_extension": ".py",
   "mimetype": "text/x-python",
   "name": "python",
   "nbconvert_exporter": "python",
   "pygments_lexer": "ipython3",
   "version": "3.6.4"
  }
 },
 "nbformat": 4,
 "nbformat_minor": 2
}
